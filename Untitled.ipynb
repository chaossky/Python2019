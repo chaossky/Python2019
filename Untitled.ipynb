{
 "cells": [
  {
   "cell_type": "code",
   "execution_count": 1,
   "metadata": {},
   "outputs": [
    {
     "ename": "ModuleNotFoundError",
     "evalue": "No module named 'datashader'",
     "output_type": "error",
     "traceback": [
      "\u001b[1;31m---------------------------------------------------------------------------\u001b[0m",
      "\u001b[1;31mModuleNotFoundError\u001b[0m                       Traceback (most recent call last)",
      "\u001b[1;32m<ipython-input-1-a733c7905708>\u001b[0m in \u001b[0;36m<module>\u001b[1;34m\u001b[0m\n\u001b[0;32m     15\u001b[0m \u001b[1;32mimport\u001b[0m \u001b[0mpandas\u001b[0m \u001b[1;32mas\u001b[0m \u001b[0mpd\u001b[0m\u001b[1;33m\u001b[0m\u001b[1;33m\u001b[0m\u001b[0m\n\u001b[0;32m     16\u001b[0m \u001b[1;32mimport\u001b[0m \u001b[0msys\u001b[0m\u001b[1;33m\u001b[0m\u001b[1;33m\u001b[0m\u001b[0m\n\u001b[1;32m---> 17\u001b[1;33m \u001b[1;32mimport\u001b[0m \u001b[0mdatashader\u001b[0m \u001b[1;32mas\u001b[0m \u001b[0mds\u001b[0m\u001b[1;33m\u001b[0m\u001b[1;33m\u001b[0m\u001b[0m\n\u001b[0m\u001b[0;32m     18\u001b[0m \u001b[1;32mfrom\u001b[0m \u001b[0mdatashader\u001b[0m \u001b[1;32mimport\u001b[0m \u001b[0mtransfer_functions\u001b[0m \u001b[1;32mas\u001b[0m \u001b[0mtf\u001b[0m\u001b[1;33m\u001b[0m\u001b[1;33m\u001b[0m\u001b[0m\n\u001b[0;32m     19\u001b[0m \u001b[1;32mfrom\u001b[0m \u001b[0mdatashader\u001b[0m\u001b[1;33m.\u001b[0m\u001b[0mcolors\u001b[0m \u001b[1;32mimport\u001b[0m \u001b[0mGreys9\u001b[0m\u001b[1;33m,\u001b[0m \u001b[0minferno\u001b[0m\u001b[1;33m,\u001b[0m \u001b[0mviridis\u001b[0m\u001b[1;33m\u001b[0m\u001b[1;33m\u001b[0m\u001b[0m\n",
      "\u001b[1;31mModuleNotFoundError\u001b[0m: No module named 'datashader'"
     ]
    }
   ],
   "source": [
    "#=================================================================================\n",
    "#----------------------      Clifford Attractor     ------------------------------\n",
    "#=================================================================================\n",
    "\n",
    "#---------------     X = sin(a * Y) + c * cos(a * X)     -------------------------\n",
    "#---------------     Y = sin(b * X) + d * cos(b * Y)     -------------------------\n",
    "\n",
    "#             This program must be run in a Jupyter notebook.\n",
    "#---------------------------------------------------------------------------------\n",
    "\n",
    "import numpy as np\n",
    "import matplotlib.pyplot as plt\n",
    "%matplotlib inline\n",
    "import matplotlib as mpl\n",
    "import pandas as pd\n",
    "import sys\n",
    "import datashader as ds\n",
    "from datashader import transfer_functions as tf\n",
    "from datashader.colors import Greys9, inferno, viridis\n",
    "from datashader.utils import export_image\n",
    "from functools import partial\n",
    "from numba import jit\n",
    "import numba\n",
    "from colorcet import palette\n",
    "\n",
    "#---------------------------------------------------------------------------------\n",
    "\n",
    "background = \"white\"\n",
    "img_map = partial(export_image, export_path=\"clifford_maps\", background=background)\n",
    "\n",
    "n = 10000000\n",
    "\n",
    "#---------------------------------------------------------------------------------\n",
    "\n",
    "@jit\n",
    "def trajectory(fn, a, b, c, d, x0=0, y0=0, n=n):\n",
    "\n",
    "    x, y = np.zeros(n), np.zeros(n)\n",
    "    x[0], y[0] = x0, y0\n",
    "\n",
    "    for i in np.arange(n-1):\n",
    "        x[i+1], y[i+1] = fn(a, b, c, d, x[i], y[i])\n",
    "\n",
    "    return pd.DataFrame(dict(x=x, y=y))\n",
    "\n",
    "@jit\n",
    "def clifford(a, b, c, d, x, y):\n",
    "\n",
    "    return np.sin(a*y) + c*np.cos(a*x),   np.sin(b*x) + d*np.cos(b*y)\n",
    "\n",
    "#---------------------------------------------------------------------------------\n",
    "\n",
    "cmaps =  [palette[p][::-1] for p in ['bgy', 'bmw', 'bgyw', 'bmy', 'fire', 'gray', 'kbc', 'kgy']]\n",
    "cmaps += [inferno[::-1], viridis[::-1]]\n",
    "cvs = ds.Canvas(plot_width = 500, plot_height = 500)\n",
    "ds.transfer_functions.Image.border=0\n",
    "\n",
    "#---------------------------------------------------------------------------------\n",
    "\n",
    "# Parameter  :              a=xxx,  b=xxx,  c=xxx,  d=xxx, \n",
    "df = trajectory(clifford,   -1.8,   -2.0,   -0.5,   -0.9,   0,   0)\n",
    "#df = trajectory(clifford,   -1.4,    1.6,    1.0,    0.7,   0,   0)\n",
    "#df = trajectory(clifford,    1.7,    1.7,    0.6,    1.2,   0,   0)\n",
    "#df = trajectory(clifford,   -1.7,    1.3,   -0.1,   -1.2,   0,   0)\n",
    "\n",
    "# Try to put a value in xxx.\n",
    "#df = trajectory(clifford,    xxx,    xxx,    xxx,    xxx,   0,   0)\n",
    "\n",
    "agg = cvs.points(df, 'x', 'y')\n",
    "img = tf.shade(agg, cmap = cmaps[1], how='linear', span = [0, n/60000])\n",
    "img_map(img,\"attractor\")\n",
    "\n"
   ]
  },
  {
   "cell_type": "code",
   "execution_count": 2,
   "metadata": {},
   "outputs": [
    {
     "ename": "ModuleNotFoundError",
     "evalue": "No module named 'datashader'",
     "output_type": "error",
     "traceback": [
      "\u001b[1;31m---------------------------------------------------------------------------\u001b[0m",
      "\u001b[1;31mModuleNotFoundError\u001b[0m                       Traceback (most recent call last)",
      "\u001b[1;32m<ipython-input-2-236dc39df287>\u001b[0m in \u001b[0;36m<module>\u001b[1;34m\u001b[0m\n\u001b[1;32m----> 1\u001b[1;33m \u001b[1;32mimport\u001b[0m \u001b[0mdatashader\u001b[0m \u001b[1;32mas\u001b[0m \u001b[0mds\u001b[0m\u001b[1;33m\u001b[0m\u001b[1;33m\u001b[0m\u001b[0m\n\u001b[0m",
      "\u001b[1;31mModuleNotFoundError\u001b[0m: No module named 'datashader'"
     ]
    }
   ],
   "source": [
    "import datashader as ds"
   ]
  },
  {
   "cell_type": "code",
   "execution_count": null,
   "metadata": {},
   "outputs": [],
   "source": []
  }
 ],
 "metadata": {
  "kernelspec": {
   "display_name": "Python 3",
   "language": "python",
   "name": "python3"
  },
  "language_info": {
   "codemirror_mode": {
    "name": "ipython",
    "version": 3
   },
   "file_extension": ".py",
   "mimetype": "text/x-python",
   "name": "python",
   "nbconvert_exporter": "python",
   "pygments_lexer": "ipython3",
   "version": "3.7.3"
  }
 },
 "nbformat": 4,
 "nbformat_minor": 2
}
